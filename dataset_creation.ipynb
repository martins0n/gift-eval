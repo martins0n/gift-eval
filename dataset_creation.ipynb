{
 "cells": [
  {
   "cell_type": "code",
   "execution_count": 1,
   "metadata": {},
   "outputs": [
    {
     "name": "stderr",
     "output_type": "stream",
     "text": [
      "/root/gift-eval/myenv/lib/python3.10/site-packages/tqdm/auto.py:21: TqdmWarning: IProgress not found. Please update jupyter and ipywidgets. See https://ipywidgets.readthedocs.io/en/stable/user_install.html\n",
      "  from .autonotebook import tqdm as notebook_tqdm\n"
     ]
    },
    {
     "name": "stdout",
     "output_type": "stream",
     "text": [
      "Available datasets in GIFT_EVAL:\n",
      "- LOOP_SEATTLE/5T\n",
      "- LOOP_SEATTLE/D\n",
      "- LOOP_SEATTLE/H\n",
      "- M_DENSE/D\n",
      "- M_DENSE/H\n",
      "- SZ_TAXI/15T\n",
      "- SZ_TAXI/H\n",
      "- bitbrains_fast_storage/5T\n",
      "- bitbrains_fast_storage/H\n",
      "- bitbrains_rnd/5T\n",
      "- bitbrains_rnd/H\n",
      "- bizitobs_application\n",
      "- bizitobs_l2c/5T\n",
      "- bizitobs_l2c/H\n",
      "- bizitobs_service\n",
      "- car_parts_with_missing\n",
      "- covid_deaths\n",
      "- electricity/15T\n",
      "- electricity/D\n",
      "- electricity/H\n",
      "- electricity/W\n",
      "- ett1/15T\n",
      "- ett1/D\n",
      "- ett1/H\n",
      "- ett1/W\n",
      "- ett2/15T\n",
      "- ett2/D\n",
      "- ett2/H\n",
      "- ett2/W\n",
      "- hierarchical_sales/D\n",
      "- hierarchical_sales/W\n",
      "- hospital\n",
      "- jena_weather/10T\n",
      "- jena_weather/D\n",
      "- jena_weather/H\n",
      "- kdd_cup_2018_with_missing/D\n",
      "- kdd_cup_2018_with_missing/H\n",
      "- m4_daily\n",
      "- m4_hourly\n",
      "- m4_monthly\n",
      "- m4_quarterly\n",
      "- m4_weekly\n",
      "- m4_yearly\n",
      "- restaurant\n",
      "- saugeenday/D\n",
      "- saugeenday/M\n",
      "- saugeenday/W\n",
      "- solar/10T\n",
      "- solar/D\n",
      "- solar/H\n",
      "- solar/W\n",
      "- temperature_rain_with_missing\n",
      "- us_births/D\n",
      "- us_births/M\n",
      "- us_births/W\n"
     ]
    }
   ],
   "source": [
    "from gift_eval.data import Dataset\n",
    "\n",
    "import os\n",
    "from dotenv import load_dotenv\n",
    "from pathlib import Path\n",
    "\n",
    "# Load environment variables\n",
    "load_dotenv()\n",
    "\n",
    "# Get the GIFT_EVAL path from environment variables\n",
    "gift_eval_path = os.getenv(\"GIFT_EVAL\")\n",
    "\n",
    "if gift_eval_path:\n",
    "    # Convert to Path object for easier manipulation\n",
    "    gift_eval_path = Path(gift_eval_path)\n",
    "\n",
    "    # Get all subdirectories (dataset names) in the GIFT_EVAL path\n",
    "    dataset_names = []\n",
    "    for dataset_dir in gift_eval_path.iterdir():\n",
    "        if dataset_dir.name.startswith(\".\"):\n",
    "            continue\n",
    "        if dataset_dir.is_dir():\n",
    "            freq_dirs = [d for d in dataset_dir.iterdir() if d.is_dir()]\n",
    "            if freq_dirs:\n",
    "                for freq_dir in freq_dirs:\n",
    "                    dataset_names.append(f\"{dataset_dir.name}/{freq_dir.name}\")\n",
    "            else:\n",
    "                dataset_names.append(dataset_dir.name)\n",
    "\n",
    "    print(\"Available datasets in GIFT_EVAL:\")\n",
    "    for name in sorted(dataset_names):\n",
    "        print(f\"- {name}\")\n",
    "else:\n",
    "    print(\n",
    "        \"GIFT_EVAL path not found in environment variables. Please check your .env file.\"\n",
    "    )"
   ]
  },
  {
   "cell_type": "code",
   "execution_count": 2,
   "metadata": {},
   "outputs": [
    {
     "name": "stdout",
     "output_type": "stream",
     "text": [
      "Dataset frequency:  M\n",
      "Prediction length:  18\n",
      "Number of windows in the rolling evaluation:  1\n"
     ]
    }
   ],
   "source": [
    "from gluonts.dataset.util import to_pandas\n",
    "import matplotlib.pyplot as plt\n",
    "\n",
    "ds_name = \"m4_monthly\"  # Name of the dataset\n",
    "to_univariate = False  # Whether to convert the data to univariate\n",
    "term = \"short\"  # Term of the dataset\n",
    "\n",
    "dataset = Dataset(name=ds_name, term=term, to_univariate=to_univariate)\n",
    "print(\"Dataset frequency: \", dataset.freq)\n",
    "print(\"Prediction length: \", dataset.prediction_length)\n",
    "print(\"Number of windows in the rolling evaluation: \", dataset.windows)"
   ]
  },
  {
   "cell_type": "code",
   "execution_count": 3,
   "metadata": {},
   "outputs": [],
   "source": [
    "import json\n",
    "\n",
    "\n",
    "short_datasets = \"m4_yearly m4_quarterly m4_monthly m4_weekly m4_daily m4_hourly electricity/15T electricity/H electricity/D electricity/W solar/10T solar/H solar/D solar/W hospital covid_deaths us_births/D us_births/M us_births/W saugeenday/D saugeenday/M saugeenday/W temperature_rain_with_missing kdd_cup_2018_with_missing/H kdd_cup_2018_with_missing/D car_parts_with_missing restaurant hierarchical_sales/D hierarchical_sales/W LOOP_SEATTLE/5T LOOP_SEATTLE/H LOOP_SEATTLE/D SZ_TAXI/15T SZ_TAXI/H M_DENSE/H M_DENSE/D ett1/15T ett1/H ett1/D ett1/W ett2/15T ett2/H ett2/D ett2/W jena_weather/10T jena_weather/H jena_weather/D bitbrains_fast_storage/5T bitbrains_fast_storage/H bitbrains_rnd/5T bitbrains_rnd/H bizitobs_application bizitobs_service bizitobs_l2c/5T bizitobs_l2c/H\"\n",
    "#short_datasets = \"m4_weekly\"\n",
    "\n",
    "med_long_datasets = \"electricity/15T electricity/H solar/10T solar/H kdd_cup_2018_with_missing/H LOOP_SEATTLE/5T LOOP_SEATTLE/H SZ_TAXI/15T M_DENSE/H ett1/15T ett1/H ett2/15T ett2/H jena_weather/10T jena_weather/H bitbrains_fast_storage/5T bitbrains_rnd/5T bizitobs_application bizitobs_service bizitobs_l2c/5T bizitobs_l2c/H\"\n",
    "# med_long_datasets = \"bizitobs_l2c/H\"\n",
    "\n",
    "# Get union of short and med_long datasets\n",
    "all_datasets = list(set(short_datasets.split() + med_long_datasets.split()))\n",
    "\n",
    "dataset_properties_map = json.load(open(\"notebooks/dataset_properties.json\"))"
   ]
  },
  {
   "cell_type": "code",
   "execution_count": 4,
   "metadata": {},
   "outputs": [],
   "source": [
    "ds_freqs = set()\n",
    "from collections import defaultdict\n",
    "ds_freqs_pred_len = defaultdict(list)\n",
    "for ds_name in all_datasets:\n",
    "    \n",
    "    dataset = Dataset(name=ds_name, term=\"short\", to_univariate=False)\n",
    "    \n",
    "    ds_freqs.add(dataset.freq)\n",
    "    ds_freqs_pred_len[dataset.freq].append(dataset.prediction_length)\n"
   ]
  },
  {
   "cell_type": "code",
   "execution_count": 5,
   "metadata": {},
   "outputs": [],
   "source": [
    "freq_x_horizon = {'10T': 48,\n",
    "'H': 48,\n",
    "'5T': 48,\n",
    "'W-SUN': 13,\n",
    "'10S': 60,\n",
    "'D': 14,\n",
    "'W-FRI': 8,\n",
    "'M': 12,\n",
    "'Q-DEC': 8,\n",
    "'15T': 48,\n",
    "'W-THU': 8,\n",
    "'A-DEC': 6,\n",
    "'W-WED': 8,\n",
    "'W-TUE': 8\n",
    "}\n",
    "\n",
    "freqs_sesonal_forecast_lag = {\n",
    "    '10T': 24 * 6,\n",
    "    'H': 24,\n",
    "    '5T': 24 * 2,\n",
    "    'W-SUN': 1,\n",
    "    '10S': 60,\n",
    "    'D': 7,\n",
    "    'W-FRI': 1,\n",
    "    'M': 1,\n",
    "    'Q-DEC': 4,\n",
    "    '15T': 24 * 4,\n",
    "    'W-THU': 1,\n",
    "    'A-DEC': 1,\n",
    "    'W-WED': 1,\n",
    "    'W-TUE': 1\n",
    "}"
   ]
  },
  {
   "cell_type": "code",
   "execution_count": 6,
   "metadata": {},
   "outputs": [],
   "source": [
    "import pandas as pd\n",
    "import hashlib\n",
    "\n",
    "for dataset in all_datasets:\n",
    "    dataset_nm = dataset\n",
    "    dataset = Dataset(name=dataset, term=\"short\", to_univariate=False)\n",
    "    freq = dataset.freq\n",
    "    ds = dataset.hf_dataset\n",
    "    ds = ds.filter(lambda x: len(x['target']) > max(freqs_sesonal_forecast_lag[freq] * 3, 3 * freq_x_horizon[freq]))\n",
    "    ds = ds.filter(lambda x: not pd.isnull(x['target']).any())\n",
    "    try:\n",
    "        splits_ = ds.train_test_split(test_size=0.5, train_size=0.5)\n",
    "    except ValueError:\n",
    "        continue\n",
    "    public = splits_['train'].to_pandas()\n",
    "    private = splits_['test'].to_pandas()\n",
    "    if len(public) == 0 or len(private) == 0:\n",
    "        continue\n",
    "    public[\"id\"] = public[\"item_id\"].apply(\n",
    "        lambda x: hashlib.md5(f\"{dataset_nm}_{x}\".encode()).hexdigest()\n",
    "    )\n",
    "    private[\"id\"] = private[\"item_id\"].apply(\n",
    "        lambda x: hashlib.md5(f\"{dataset_nm}_{x}\".encode()).hexdigest()\n",
    "    )\n",
    "    \n",
    "    public[\"target\"] = public[\"target\"] / 42\n",
    "    private[\"target\"] = private[\"target\"] / 42\n",
    "    public[\"forecast\"] = public.apply(lambda x: x[\"target\"][-freq_x_horizon[x[\"freq\"]]:], axis=1)\n",
    "    private[\"forecast\"] = private.apply(lambda x: x[\"target\"][-freq_x_horizon[x[\"freq\"]]:], axis=1)\n",
    "    public[\"target\"] = public.apply(lambda x: x[\"target\"][:-freq_x_horizon[x[\"freq\"]]], axis=1)\n",
    "    private[\"target\"] = private.apply(lambda x: x[\"target\"][:-freq_x_horizon[x[\"freq\"]]], axis=1)\n",
    "    \n",
    "    public.drop(columns=[\"item_id\"], inplace=True)\n",
    "    private.drop(columns=[\"item_id\"], inplace=True)\n",
    "    public[\"Usage\"] = \"Public\"\n",
    "    private[\"Usage\"] = \"Private\"\n",
    "    \n",
    "    public.to_parquet(f\"data/{dataset_nm.replace('/', '_')}_public.parquet.gz\", index=False, compression=\"gzip\")\n",
    "    private.to_parquet(f\"data/{dataset_nm.replace('/', '_')}_private.parquet.gz\", index=False, compression=\"gzip\")"
   ]
  },
  {
   "cell_type": "code",
   "execution_count": 7,
   "metadata": {},
   "outputs": [],
   "source": [
    "import pandas as pd    \n",
    "df = pd.read_parquet('data')"
   ]
  },
  {
   "cell_type": "code",
   "execution_count": 8,
   "metadata": {},
   "outputs": [
    {
     "data": {
      "text/plain": [
       "105072"
      ]
     },
     "execution_count": 8,
     "metadata": {},
     "output_type": "execute_result"
    }
   ],
   "source": [
    "len(df.iloc[0][\"target\"])"
   ]
  },
  {
   "cell_type": "code",
   "execution_count": 9,
   "metadata": {},
   "outputs": [
    {
     "data": {
      "text/plain": [
       "[234233]"
      ]
     },
     "execution_count": 9,
     "metadata": {},
     "output_type": "execute_result"
    }
   ],
   "source": [
    "[32423, 23423 , 234233][-1:]"
   ]
  },
  {
   "cell_type": "code",
   "execution_count": 10,
   "metadata": {},
   "outputs": [
    {
     "data": {
      "text/plain": [
       "48"
      ]
     },
     "execution_count": 10,
     "metadata": {},
     "output_type": "execute_result"
    }
   ],
   "source": [
    "len(df.iloc[0][\"forecast\"])"
   ]
  },
  {
   "cell_type": "code",
   "execution_count": 11,
   "metadata": {},
   "outputs": [],
   "source": [
    "df[[\"id\", \"freq\", \"start\", \"target\"]].to_parquet(\"data/train.parquet.gz\", index=False, compression=\"gzip\")"
   ]
  },
  {
   "cell_type": "code",
   "execution_count": 12,
   "metadata": {},
   "outputs": [],
   "source": [
    "df[[\"id\", \"freq\", \"start\", \"target\", \"forecast\", \"Usage\"]].to_parquet(\"data/private.parquet.gz\", index=False, compression=\"gzip\")"
   ]
  },
  {
   "cell_type": "code",
   "execution_count": null,
   "metadata": {},
   "outputs": [],
   "source": []
  }
 ],
 "metadata": {
  "kernelspec": {
   "display_name": "myenv",
   "language": "python",
   "name": "python3"
  },
  "language_info": {
   "codemirror_mode": {
    "name": "ipython",
    "version": 3
   },
   "file_extension": ".py",
   "mimetype": "text/x-python",
   "name": "python",
   "nbconvert_exporter": "python",
   "pygments_lexer": "ipython3",
   "version": "3.10.13"
  }
 },
 "nbformat": 4,
 "nbformat_minor": 2
}
